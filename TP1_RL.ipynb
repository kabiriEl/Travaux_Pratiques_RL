{
 "cells": [
  {
   "cell_type": "code",
   "execution_count": 9,
   "id": "af565556-f1af-40e7-a20a-b19ee78e7577",
   "metadata": {},
   "outputs": [],
   "source": [
    "import gymnasium as gym \n",
    "import numpy as np\n"
   ]
  },
  {
   "cell_type": "markdown",
   "id": "bc442230-f750-4626-a21f-551b60e523d9",
   "metadata": {},
   "source": [
    "Création d'environnement"
   ]
  },
  {
   "cell_type": "code",
   "execution_count": 15,
   "id": "e58e5dd6-e7ea-4348-8c0f-3b31dc4b18ac",
   "metadata": {},
   "outputs": [
    {
     "data": {
      "text/plain": [
       "(array([ 0.03704208, -0.03644302,  0.02378167,  0.03196622], dtype=float32),\n",
       " {})"
      ]
     },
     "execution_count": 15,
     "metadata": {},
     "output_type": "execute_result"
    }
   ],
   "source": [
    "env = gym.make(\"CartPole-v1\",render_mode=\"human\")\n",
    "env.reset()"
   ]
  },
  {
   "cell_type": "markdown",
   "id": "89b5ef26-e9b4-44a8-9969-b8bbff060d04",
   "metadata": {},
   "source": [
    "Exploration d'environnement "
   ]
  },
  {
   "cell_type": "code",
   "execution_count": 12,
   "id": "43753ef0-f4d7-48e9-a0dc-21220f06184c",
   "metadata": {},
   "outputs": [
    {
     "name": "stdout",
     "output_type": "stream",
     "text": [
      "Espace d'observation: Box([-4.8               -inf -0.41887903        -inf], [4.8               inf 0.41887903        inf], (4,), float32)\n",
      "Espace d'action: Discrete(2)\n",
      "Observation: [ 4.2335521e-02  1.9748679e-01 -8.7869703e-05 -3.0031329e-01], Récompense: 1.0, Terminé: False\n",
      "Observation: [ 0.04628526  0.00236608 -0.00609414 -0.00765809], Récompense: 1.0, Terminé: False\n",
      "Observation: [ 0.04633258  0.1975749  -0.0062473  -0.30225754], Récompense: 1.0, Terminé: False\n",
      "Observation: [ 0.05028408  0.39278534 -0.01229245 -0.59690416], Récompense: 1.0, Terminé: False\n",
      "Observation: [ 0.05813979  0.5880771  -0.02423053 -0.89343363], Récompense: 1.0, Terminé: False\n",
      "Observation: [ 0.06990132  0.39329204 -0.0420992  -0.60846484], Récompense: 1.0, Terminé: False\n",
      "Observation: [ 0.07776717  0.19878314 -0.0542685  -0.3293335 ], Récompense: 1.0, Terminé: False\n",
      "Observation: [ 0.08174283  0.00447405 -0.06085517 -0.05424606], Récompense: 1.0, Terminé: False\n",
      "Observation: [ 0.08183231 -0.18972492 -0.06194009  0.21863279], Récompense: 1.0, Terminé: False\n",
      "Observation: [ 0.07803781 -0.38390929 -0.05756744  0.491152  ], Récompense: 1.0, Terminé: False\n",
      "Observation: [ 0.07035962 -0.18802454 -0.0477444   0.18089615], Récompense: 1.0, Terminé: False\n",
      "Observation: [ 0.06659914 -0.38243192 -0.04412647  0.4581434 ], Récompense: 1.0, Terminé: False\n",
      "Observation: [ 0.0589505  -0.18671486 -0.0349636   0.1518846 ], Récompense: 1.0, Terminé: False\n",
      "Observation: [ 0.0552162   0.00888984 -0.03192591 -0.15162033], Récompense: 1.0, Terminé: False\n",
      "Observation: [ 0.055394   -0.18576077 -0.03495832  0.13082215], Récompense: 1.0, Terminé: False\n",
      "Observation: [ 0.05167878  0.00984407 -0.03234188 -0.17268148], Récompense: 1.0, Terminé: False\n",
      "Observation: [ 0.05187567 -0.18480043 -0.03579551  0.10962573], Récompense: 1.0, Terminé: False\n",
      "Observation: [ 0.04817966 -0.37939164 -0.03360299  0.39080393], Récompense: 1.0, Terminé: False\n",
      "Observation: [ 0.04059182 -0.574021   -0.02578691  0.6727057 ], Récompense: 1.0, Terminé: False\n",
      "Observation: [ 0.0291114  -0.37855026 -0.0123328   0.37201658], Récompense: 1.0, Terminé: False\n",
      "Observation: [ 0.0215404  -0.57349485 -0.00489247  0.6607855 ], Récompense: 1.0, Terminé: False\n",
      "Observation: [ 0.0100705  -0.37830517  0.00832324  0.3665661 ], Récompense: 1.0, Terminé: False\n",
      "Observation: [ 0.0025044  -0.18330246  0.01565456  0.07651918], Récompense: 1.0, Terminé: False\n",
      "Observation: [-0.00116165 -0.3786453   0.01718495  0.3740998 ], Récompense: 1.0, Terminé: False\n",
      "Observation: [-0.00873456 -0.18377161  0.02466694  0.08688455], Récompense: 1.0, Terminé: False\n",
      "Observation: [-0.01240999  0.01098823  0.02640463 -0.197915  ], Récompense: 1.0, Terminé: False\n",
      "Observation: [-0.01219022  0.20572275  0.02244633 -0.4821529 ], Récompense: 1.0, Terminé: False\n",
      "Observation: [-0.00807577  0.4005208   0.01280328 -0.7676777 ], Récompense: 1.0, Terminé: False\n",
      "Observation: [-6.5352811e-05  5.9546417e-01 -2.5502788e-03 -1.0563047e+00], Récompense: 1.0, Terminé: False\n",
      "Observation: [ 0.01184393  0.40037614 -0.02367637 -0.7644234 ], Récompense: 1.0, Terminé: False\n",
      "Observation: [ 0.01985145  0.20558809 -0.03896484 -0.47928345], Récompense: 1.0, Terminé: False\n",
      "Observation: [ 0.02396321  0.01103726 -0.04855051 -0.19913146], Récompense: 1.0, Terminé: False\n",
      "Observation: [ 0.02418396  0.20681879 -0.05253314 -0.50672597], Récompense: 1.0, Terminé: False\n",
      "Observation: [ 0.02832034  0.01247491 -0.06266766 -0.23104993], Récompense: 1.0, Terminé: False\n",
      "Observation: [ 0.02856983  0.20843375 -0.06728866 -0.54282343], Récompense: 1.0, Terminé: False\n",
      "Observation: [ 0.03273851  0.01431879 -0.07814512 -0.27207786], Récompense: 1.0, Terminé: False\n",
      "Observation: [ 0.03302488 -0.17960615 -0.08358669 -0.00502945], Récompense: 1.0, Terminé: False\n",
      "Observation: [ 0.02943276  0.01660889 -0.08368728 -0.32287034], Récompense: 1.0, Terminé: False\n",
      "Observation: [ 0.02976494 -0.17722785 -0.09014468 -0.05770812], Récompense: 1.0, Terminé: False\n",
      "Observation: [ 0.02622038 -0.37094942 -0.09129884  0.20522772], Récompense: 1.0, Terminé: False\n",
      "Observation: [ 0.01880139 -0.17464851 -0.08719429 -0.11480189], Récompense: 1.0, Terminé: False\n",
      "Observation: [ 0.01530842  0.02160759 -0.08949032 -0.4336703 ], Récompense: 1.0, Terminé: False\n",
      "Observation: [ 0.01574058  0.21787502 -0.09816373 -0.75316846], Récompense: 1.0, Terminé: False\n",
      "Observation: [ 0.02009808  0.02423371 -0.1132271  -0.4929186 ], Récompense: 1.0, Terminé: False\n",
      "Observation: [ 0.02058275  0.22075531 -0.12308547 -0.8190311 ], Récompense: 1.0, Terminé: False\n",
      "Observation: [ 0.02499786  0.41732755 -0.13946609 -1.1477545 ], Récompense: 1.0, Terminé: False\n",
      "Observation: [ 0.03334441  0.22427423 -0.16242118 -0.90185654], Récompense: 1.0, Terminé: False\n",
      "Observation: [ 0.03782989  0.4211797  -0.18045832 -1.2408696 ], Récompense: 1.0, Terminé: False\n",
      "Observation: [ 0.04625349  0.22877388 -0.20527571 -1.0097147 ], Récompense: 1.0, Terminé: False\n",
      "Observation: [ 0.05082896  0.03689448 -0.22547    -0.7878665 ], Récompense: 1.0, Terminé: True\n"
     ]
    }
   ],
   "source": [
    "print(\"Espace d'observation:\", env.observation_space)\n",
    "print(\"Espace d'action:\", env.action_space)\n",
    "\n",
    "obs = env.reset()\n",
    "for _ in range(50):\n",
    "    \n",
    "    action = env.action_space.sample()  \n",
    "    Observation, reward, done, info , _ = env.step(action)  \n",
    "    \n",
    "    print(f\"Observation: {Observation}, Récompense: {reward}, Terminé: {done}\")\n",
    "    \n",
    "    if done:\n",
    "        env.reset()  \n",
    "\n",
    "env.close()"
   ]
  },
  {
   "cell_type": "markdown",
   "id": "9828bade-0326-440c-92b9-80d28c9842ce",
   "metadata": {},
   "source": [
    "Controle manuel d'Agent "
   ]
  },
  {
   "cell_type": "code",
   "execution_count": 13,
   "id": "268c75a4-342b-4e63-b3f8-1ba6832dfbe7",
   "metadata": {},
   "outputs": [
    {
     "name": "stdout",
     "output_type": "stream",
     "text": [
      "Entrez '0' pour aller à gauche, '1' pour aller à droite, et 'q' pour quitter.\n",
      "\n"
     ]
    },
    {
     "name": "stdin",
     "output_type": "stream",
     "text": [
      " Entrez l'action , 0=gauche, 1=droite :  0\n"
     ]
    },
    {
     "name": "stdout",
     "output_type": "stream",
     "text": [
      "\n",
      " Étape 1:\n",
      "  Action exécutée: 0\n",
      "  Observation: [ 0.0492551  -0.16562451 -0.00156371  0.278995  ]\n",
      "  Récompense: 1.0\n",
      "  Épisode terminé ? False\n",
      "\n"
     ]
    },
    {
     "name": "stdin",
     "output_type": "stream",
     "text": [
      " Entrez l'action , 0=gauche, 1=droite :  1\n"
     ]
    },
    {
     "name": "stdout",
     "output_type": "stream",
     "text": [
      "\n",
      " Étape 2:\n",
      "  Action exécutée: 1\n",
      "  Observation: [ 0.04594262  0.02951971  0.00401619 -0.0141807 ]\n",
      "  Récompense: 1.0\n",
      "  Épisode terminé ? False\n",
      "\n"
     ]
    },
    {
     "name": "stdin",
     "output_type": "stream",
     "text": [
      " Entrez l'action , 0=gauche, 1=droite :  q\n"
     ]
    },
    {
     "name": "stdout",
     "output_type": "stream",
     "text": [
      " Fin du programme.\n"
     ]
    }
   ],
   "source": [
    "env = gym.make(\"CartPole-v1\", render_mode=\"human\")  \n",
    "obs, info = env.reset()\n",
    "\n",
    "\n",
    "num_steps = 0\n",
    "\n",
    "\n",
    "print(\"Entrez '0' pour aller à gauche, '1' pour aller à droite, et 'q' pour quitter.\\n\")\n",
    "\n",
    "while True:\n",
    "    env.render() \n",
    "\n",
    "   \n",
    "    action = input(\" Entrez l'action , 0=gauche, 1=droite : \")\n",
    "    \n",
    "    if action.lower() == 'q': \n",
    "        print(\" Fin du programme.\")\n",
    "        break\n",
    "    \n",
    "    if action not in ['0', '1']:  \n",
    "        print(\" Entrée invalide ! Veuillez entrer 0 ou 1.\")\n",
    "        continue\n",
    "\n",
    "    action = int(action) \n",
    "    \n",
    " \n",
    "    obs, reward, done, _, _ = env.step(action)\n",
    "    \n",
    "   \n",
    "    print(f\"\\n Étape {num_steps + 1}:\")\n",
    "    print(f\"  Action exécutée: {action}\")\n",
    "    print(f\"  Observation: {obs}\")\n",
    "    print(f\"  Récompense: {reward}\")\n",
    "    print(f\"  Épisode terminé ? {done}\\n\")\n",
    "    \n",
    "    num_steps += 1 \n",
    "\n",
    "    if done:  \n",
    "        print(f\" Épisode terminé après {num_steps} étapes.\")\n",
    "        obs, info = env.reset()  \n",
    "\n",
    "env.close() "
   ]
  },
  {
   "cell_type": "markdown",
   "id": "17651609-bdcd-4ff8-b7fe-9692bf8080cf",
   "metadata": {},
   "source": [
    "Evaluation des performances"
   ]
  },
  {
   "cell_type": "code",
   "execution_count": 16,
   "id": "45010220-62ca-4d78-8e64-a0d636a3b874",
   "metadata": {},
   "outputs": [
    {
     "name": "stdout",
     "output_type": "stream",
     "text": [
      " l'épisode est terminé avec 10 action\n",
      " l'épisode est terminé avec 1 action\n",
      " l'épisode est terminé avec 1 action\n",
      " l'épisode est terminé avec 1 action\n",
      " l'épisode est terminé avec 1 action\n",
      " l'épisode est terminé avec 1 action\n",
      " l'épisode est terminé avec 1 action\n",
      " l'épisode est terminé avec 1 action\n",
      " l'épisode est terminé avec 1 action\n",
      " l'épisode est terminé avec 1 action\n",
      "la moyenne des actions est 1.9\n"
     ]
    },
    {
     "name": "stderr",
     "output_type": "stream",
     "text": [
      "C:\\Users\\El Mahdi Kabiri\\anaconda3\\Lib\\site-packages\\gymnasium\\envs\\classic_control\\cartpole.py:214: UserWarning: \u001b[33mWARN: You are calling 'step()' even though this environment has already returned terminated = True. You should always call 'reset()' once you receive 'terminated = True' -- any further steps are undefined behavior.\u001b[0m\n",
      "  logger.warn(\n"
     ]
    }
   ],
   "source": [
    "episodes = 10 \n",
    "durée = []\n",
    "env.reset()\n",
    "for episode in range(episodes):\n",
    "    num_action = 0 \n",
    "    \n",
    "    while True : \n",
    "          action = env.action_space.sample()\n",
    "          obs , reward , done , _ , _ = env.step(action)\n",
    "          num_action+=1 \n",
    "\n",
    "          if done :\n",
    "              durée.append(num_action)\n",
    "              print(f\" l'épisode est terminé avec {num_action} action\")\n",
    "              break\n",
    "print(f\"la moyenne des actions est {np.mean(durée)}\")\n",
    "env.close()"
   ]
  },
  {
   "cell_type": "code",
   "execution_count": 20,
   "id": "25900aec-fbb3-4651-812e-92b023a1fd1a",
   "metadata": {},
   "outputs": [],
   "source": []
  }
 ],
 "metadata": {
  "kernelspec": {
   "display_name": "Python 3 (ipykernel)",
   "language": "python",
   "name": "python3"
  },
  "language_info": {
   "codemirror_mode": {
    "name": "ipython",
    "version": 3
   },
   "file_extension": ".py",
   "mimetype": "text/x-python",
   "name": "python",
   "nbconvert_exporter": "python",
   "pygments_lexer": "ipython3",
   "version": "3.12.7"
  }
 },
 "nbformat": 4,
 "nbformat_minor": 5
}
