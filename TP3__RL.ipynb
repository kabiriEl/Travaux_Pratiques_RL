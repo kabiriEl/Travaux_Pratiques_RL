{
 "cells": [
  {
   "cell_type": "code",
   "execution_count": null,
   "id": "a27364b5-083e-4b32-9b96-c85fdc50ca51",
   "metadata": {},
   "outputs": [],
   "source": [
    "import gymnasium as gym\n",
    "import numpy as np\n",
    "\n",
    "\n",
    "env = gym.make(\"Taxi-v3\")"
   ]
  },
  {
   "cell_type": "code",
   "execution_count": 2,
   "id": "b12787ca-7cd3-4152-ac54-277e0c7a9ab5",
   "metadata": {},
   "outputs": [
    {
     "name": "stdout",
     "output_type": "stream",
     "text": [
      "le nombre des états est 500\n",
      "le nombre des actions est 6\n"
     ]
    }
   ],
   "source": [
    "num_states = env.observation_space.n\n",
    "num_actions = env.action_space.n\n",
    "\n",
    "print(f\"le nombre des états est {num_states}\")\n",
    "print(f\"le nombre des actions est {num_actions}\")"
   ]
  },
  {
   "cell_type": "code",
   "execution_count": 3,
   "id": "6820c554-54d5-46e4-92df-e3f3682bbfb0",
   "metadata": {},
   "outputs": [],
   "source": [
    "\n",
    "gamma = 0.99            \n",
    "learning_rate = 0.1      \n",
    "clip_epsilon = 0.2        \n",
    "episodes = 5000           \n",
    "\n",
    "policy_table = np.ones((num_states, num_actions)) / num_actions\n",
    "\n",
    "value_table = np.zeros(num_states)\n"
   ]
  },
  {
   "cell_type": "markdown",
   "id": "a1bc54f6-5722-454f-b802-c83ed5f478cf",
   "metadata": {},
   "source": [
    "Fonction pour choisir une action selon la politique"
   ]
  },
  {
   "cell_type": "code",
   "execution_count": 4,
   "id": "b778dabf-e636-4933-a9a4-e8b57f521652",
   "metadata": {},
   "outputs": [],
   "source": [
    "\n",
    "def choisir_action(state):\n",
    "    probas = policy_table[state]\n",
    "    return np.random.choice(np.arange(num_actions), p=probas)\n"
   ]
  },
  {
   "cell_type": "markdown",
   "id": "59ef8178-5bf5-47d9-a3ea-c0506ade03eb",
   "metadata": {},
   "source": [
    "Fonction pour calculer les récompenses cumulées"
   ]
  },
  {
   "cell_type": "code",
   "execution_count": 5,
   "id": "1305b893-77fa-4b80-9c44-f7d0e9b7fafe",
   "metadata": {},
   "outputs": [],
   "source": [
    "def calcul_recompenses_cumulees(rewards, gamma):\n",
    "    R = 0\n",
    "    recompenses = np.zeros(len(rewards))\n",
    "    for t in reversed(range(len(rewards))):\n",
    "        R = rewards[t] + gamma * R\n",
    "        recompenses[t] = R\n",
    "    return recompenses\n"
   ]
  },
  {
   "cell_type": "markdown",
   "id": "38556832-45ac-4094-9670-141fc7ef98ef",
   "metadata": {},
   "source": [
    "Boucle d'entraînement PPO"
   ]
  },
  {
   "cell_type": "code",
   "execution_count": null,
   "id": "ee73185f-0a22-435d-ad77-9c0707e934d9",
   "metadata": {},
   "outputs": [],
   "source": [
    "for episode in range(episodes):\n",
    "    state, _ = env.reset()\n",
    "    done = False\n",
    "\n",
    "    episode_states = []\n",
    "    episode_actions = []\n",
    "    episode_rewards = []\n",
    "\n",
    "    while not done:\n",
    "        action = choisir_action(state) \n",
    "        next_state, reward, done, _, _ = env.step(action) \n",
    "\n",
    "        episode_states.append(state)\n",
    "        episode_actions.append(action)\n",
    "        episode_rewards.append(reward)\n",
    "\n",
    "        state = next_state \n"
   ]
  },
  {
   "cell_type": "markdown",
   "id": "06a73bcb-e1a3-4bf5-b562-6c8a20205d77",
   "metadata": {},
   "source": [
    "Calcul des récompenses cumulées"
   ]
  },
  {
   "cell_type": "code",
   "execution_count": null,
   "id": "0c845b82-129d-495e-9515-2de465c2dfaf",
   "metadata": {},
   "outputs": [],
   "source": [
    "\n",
    "    discounted_rewards = calcul_recompenses_cumulees(episode_rewards, gamma)\n"
   ]
  },
  {
   "cell_type": "markdown",
   "id": "71ab881a-af63-40ae-9dbb-3d18b3480184",
   "metadata": {},
   "source": [
    "Calcul de l'avantage"
   ]
  },
  {
   "cell_type": "code",
   "execution_count": null,
   "id": "3905e234-4948-4446-81f0-0fa6a2a91823",
   "metadata": {},
   "outputs": [],
   "source": [
    "\n",
    "    advantages = discounted_rewards - value_table[episode_states]\n"
   ]
  },
  {
   "cell_type": "markdown",
   "id": "d0854e4c-739e-4280-99c6-ad078fe55457",
   "metadata": {},
   "source": [
    "Mise à jour de la politique avec clipping PPO"
   ]
  },
  {
   "cell_type": "code",
   "execution_count": null,
   "id": "df5606e0-a813-4cf3-a6f3-955179152042",
   "metadata": {},
   "outputs": [],
   "source": [
    "  \n",
    "    for i in range(len(episode_states)):\n",
    "        s = episode_states[i]\n",
    "        a = episode_actions[i]\n",
    "        A = advantages[i]\n",
    "\n",
    "        clipped_A = np.clip(A, -clip_epsilon, clip_epsilon)\n",
    "\n",
    "        policy_table[s] *= (1 - learning_rate)  \n",
    "        policy_table[s][a] += learning_rate * clipped_A  \n",
    "\n",
    "        policy_table[s] = np.clip(policy_table[s], 1e-5, 1.0)\n",
    "        policy_table[s] /= np.sum(policy_table[s])\n"
   ]
  },
  {
   "cell_type": "markdown",
   "id": "be5d1f80-feea-4c75-b48e-fabd84f6c574",
   "metadata": {},
   "source": [
    "Mise à jour de la value function V(s)"
   ]
  },
  {
   "cell_type": "code",
   "execution_count": null,
   "id": "ea84386f-86ad-492e-ad49-bcc9124a1bf7",
   "metadata": {},
   "outputs": [],
   "source": [
    "\n",
    "    for i in range(len(episode_states)):\n",
    "        s = episode_states[i]\n",
    "        R = discounted_rewards[i]\n",
    "\n",
    "        value_table[s] += learning_rate * (R - value_table[s])\n",
    "\n",
    "    if episode % 500 == 0:\n",
    "        print(f\"✅ Épisode {episode} terminé\")\n",
    "\n",
    "env.close()\n"
   ]
  },
  {
   "cell_type": "markdown",
   "id": "7fdcb0f4-d311-4d61-b272-d650e501e355",
   "metadata": {},
   "source": [
    "Initialiser la Q-table"
   ]
  },
  {
   "cell_type": "code",
   "execution_count": null,
   "id": "5566c1f2-ef4c-48e1-97f4-f2cdcdcce764",
   "metadata": {},
   "outputs": [],
   "source": [
    "q_table = np.zeros((env.observation_space.n, env.action_space.n))  "
   ]
  },
  {
   "cell_type": "markdown",
   "id": "e7aadb65-b812-4420-8efc-7848cb1aaa69",
   "metadata": {},
   "source": [
    "Boucle d'evaluation"
   ]
  },
  {
   "cell_type": "code",
   "execution_count": null,
   "id": "4bc95acd-5bd4-4e80-aa34-6d3284f76871",
   "metadata": {},
   "outputs": [],
   "source": [
    "\n",
    "test_episodes = 20\n",
    "successes = 0\n",
    "\n",
    "for episode in range(test_episodes):\n",
    "    state, _ = env.reset()\n",
    "    done = False\n",
    "    total_reward = 0\n",
    "    steps = 0\n",
    "\n",
    "    while not done:\n",
    "        action = np.argmax(q_table[state])  \n",
    "        next_state, reward, done, _, _ = env.step(action)\n",
    "        state = next_state\n",
    "        total_reward += reward\n",
    "        steps += 1\n",
    "\n",
    "    if total_reward >= 20:\n",
    "        successes += 1\n",
    "\n",
    "    print(f\"Épisode {episode+1}: Récompense totale = {total_reward}, Succès = {\"yes\" if total_reward >= 20 else \"no\"}\")\n",
    "\n",
    "\n",
    "success_rate = successes / test_episodes\n",
    "print(f\"\\n Taux de réussite de l'agent sur {test_episodes} épisodes : {success_rate*100:.2f}%\")\n",
    "\n",
    "env.close()\n"
   ]
  },
  {
   "cell_type": "code",
   "execution_count": null,
   "id": "f622a474-73a8-4e4b-a5a2-3ab15ab7a1ee",
   "metadata": {},
   "outputs": [],
   "source": []
  }
 ],
 "metadata": {
  "kernelspec": {
   "display_name": "Python 3 (ipykernel)",
   "language": "python",
   "name": "python3"
  },
  "language_info": {
   "codemirror_mode": {
    "name": "ipython",
    "version": 3
   },
   "file_extension": ".py",
   "mimetype": "text/x-python",
   "name": "python",
   "nbconvert_exporter": "python",
   "pygments_lexer": "ipython3",
   "version": "3.12.7"
  }
 },
 "nbformat": 4,
 "nbformat_minor": 5
}
